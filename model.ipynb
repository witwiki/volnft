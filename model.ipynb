{
 "cells": [
  {
   "cell_type": "code",
   "execution_count": null,
   "metadata": {},
   "outputs": [],
   "source": [
    "import pandas as pd"
   ]
  },
  {
   "cell_type": "code",
   "execution_count": null,
   "metadata": {},
   "outputs": [],
   "source": [
    "# Floor Prices\n",
    "df_spot = pd.read_json('price-data/spot.json')#, orient='records')\n",
    "df2 = df_spot.drop(df_spot.columns[[1,2]], axis=1)\n",
    "\n",
    "df2['floorPrice'] = df2['data'].astype(str).str.split(',').str[0]\n",
    "df2['date'] = df2['data'].astype(str).str.split(',').str[1]\n",
    "df3 = df2.drop(df2.columns[[0]], axis=1)\n",
    "\n",
    "df3['floorPrice'] = df3['floorPrice'].astype(str).str.split(':').str[1]\n",
    "df3['date'] = df3['date'].astype(str).str.split(':').str[1]\n",
    "\n",
    "df3['floorPrice'] = df3['floorPrice'].map(lambda x: x.rstrip(\"'\").lstrip(\" '\")).astype(float)\n",
    "df3['date'] = df3['date'].map(lambda x: x.lstrip(\" '\").rstrip(\"00\").rstrip(\"T\"))\n",
    "# print(df3.head())"
   ]
  },
  {
   "cell_type": "code",
   "execution_count": null,
   "metadata": {},
   "outputs": [],
   "source": [
    "# Estimated Prices\n",
    "df_strikes = pd.read_json('price-data/strikes.json')\n",
    "df4 = df_strikes.drop(df_strikes.columns[[1,2]], axis=1)\n",
    "\n",
    "df4['estPrice'] = df4['data'].astype(str).str.split(',').str[0]\n",
    "df4['date'] = df4['data'].astype(str).str.split(',').str[1]\n",
    "df5 = df4.drop(df4.columns[[0]], axis=1)\n",
    "\n",
    "df5['estPrice'] = df5['estPrice'].astype(str).str.split(':').str[1]\n",
    "df5['date'] = df5['date'].astype(str).str.split(':').str[1]\n",
    "\n",
    "df5['estPrice'] = df5['estPrice'].map(lambda x: x.rstrip(\"'\").lstrip(\" '\")).astype(float)\n",
    "df5['date'] = df5['date'].map(lambda x: x.lstrip(\" '\").rstrip(\"00\").rstrip(\"T\"))\n",
    "# print(df5.head())\n"
   ]
  },
  {
   "cell_type": "code",
   "execution_count": null,
   "metadata": {},
   "outputs": [],
   "source": []
  }
 ],
 "metadata": {
  "kernelspec": {
   "display_name": "Python 3.8.10 ('venv': venv)",
   "language": "python",
   "name": "python3"
  },
  "language_info": {
   "codemirror_mode": {
    "name": "ipython",
    "version": 3
   },
   "file_extension": ".py",
   "mimetype": "text/x-python",
   "name": "python",
   "nbconvert_exporter": "python",
   "pygments_lexer": "ipython3",
   "version": "3.8.10"
  },
  "orig_nbformat": 4,
  "vscode": {
   "interpreter": {
    "hash": "e149d0c08e6f70c0c7a11fbdec02d88c0c34f9719a43e4bfa92ff9668fc595ee"
   }
  }
 },
 "nbformat": 4,
 "nbformat_minor": 2
}
