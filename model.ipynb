{
 "cells": [
  {
   "cell_type": "code",
   "execution_count": 1,
   "metadata": {},
   "outputs": [],
   "source": [
    "import pandas as pd"
   ]
  },
  {
   "cell_type": "code",
   "execution_count": 20,
   "metadata": {},
   "outputs": [
    {
     "data": {
      "text/html": [
       "<div>\n",
       "<style scoped>\n",
       "    .dataframe tbody tr th:only-of-type {\n",
       "        vertical-align: middle;\n",
       "    }\n",
       "\n",
       "    .dataframe tbody tr th {\n",
       "        vertical-align: top;\n",
       "    }\n",
       "\n",
       "    .dataframe thead th {\n",
       "        text-align: right;\n",
       "    }\n",
       "</style>\n",
       "<table border=\"1\" class=\"dataframe\">\n",
       "  <thead>\n",
       "    <tr style=\"text-align: right;\">\n",
       "      <th></th>\n",
       "      <th>floorPrice</th>\n",
       "      <th>date</th>\n",
       "    </tr>\n",
       "  </thead>\n",
       "  <tbody>\n",
       "    <tr>\n",
       "      <th>0</th>\n",
       "      <td>36.50</td>\n",
       "      <td>2021-10-15</td>\n",
       "    </tr>\n",
       "    <tr>\n",
       "      <th>1</th>\n",
       "      <td>36.00</td>\n",
       "      <td>2021-10-16</td>\n",
       "    </tr>\n",
       "    <tr>\n",
       "      <th>2</th>\n",
       "      <td>35.10</td>\n",
       "      <td>2021-10-17</td>\n",
       "    </tr>\n",
       "    <tr>\n",
       "      <th>3</th>\n",
       "      <td>36.00</td>\n",
       "      <td>2021-10-18</td>\n",
       "    </tr>\n",
       "    <tr>\n",
       "      <th>4</th>\n",
       "      <td>35.68</td>\n",
       "      <td>2021-10-19</td>\n",
       "    </tr>\n",
       "  </tbody>\n",
       "</table>\n",
       "</div>"
      ],
      "text/plain": [
       "   floorPrice        date\n",
       "0       36.50  2021-10-15\n",
       "1       36.00  2021-10-16\n",
       "2       35.10  2021-10-17\n",
       "3       36.00  2021-10-18\n",
       "4       35.68  2021-10-19"
      ]
     },
     "execution_count": 20,
     "metadata": {},
     "output_type": "execute_result"
    }
   ],
   "source": [
    "# Floor Prices\n",
    "df_spot = pd.read_json('price-data/spot.json')#, orient='records')\n",
    "df2 = df_spot.drop(df_spot.columns[[1,2]], axis=1)\n",
    "\n",
    "df2['floorPrice'] = df2['data'].astype(str).str.split(',').str[0]\n",
    "df2['date'] = df2['data'].astype(str).str.split(',').str[1]\n",
    "df3 = df2.drop(df2.columns[[0]], axis=1)\n",
    "\n",
    "df3['floorPrice'] = df3['floorPrice'].astype(str).str.split(':').str[1]\n",
    "df3['date'] = df3['date'].astype(str).str.split(':').str[1]\n",
    "\n",
    "df3['floorPrice'] = df3['floorPrice'].map(lambda x: x.rstrip(\"'\").lstrip(\" '\")).astype(float)\n",
    "df3['date'] = df3['date'].map(lambda x: x.lstrip(\" '\").rstrip(\"00\").rstrip(\"T\"))\n",
    "df3.sort_values(by='date', ascending=True).head()\n",
    "# print(df3.head())"
   ]
  },
  {
   "cell_type": "code",
   "execution_count": 19,
   "metadata": {},
   "outputs": [
    {
     "data": {
      "text/html": [
       "<div>\n",
       "<style scoped>\n",
       "    .dataframe tbody tr th:only-of-type {\n",
       "        vertical-align: middle;\n",
       "    }\n",
       "\n",
       "    .dataframe tbody tr th {\n",
       "        vertical-align: top;\n",
       "    }\n",
       "\n",
       "    .dataframe thead th {\n",
       "        text-align: right;\n",
       "    }\n",
       "</style>\n",
       "<table border=\"1\" class=\"dataframe\">\n",
       "  <thead>\n",
       "    <tr style=\"text-align: right;\">\n",
       "      <th></th>\n",
       "      <th>estPrice</th>\n",
       "      <th>date</th>\n",
       "    </tr>\n",
       "  </thead>\n",
       "  <tbody>\n",
       "    <tr>\n",
       "      <th>0</th>\n",
       "      <td>6.611798</td>\n",
       "      <td>2021-06-20</td>\n",
       "    </tr>\n",
       "    <tr>\n",
       "      <th>1</th>\n",
       "      <td>7.921276</td>\n",
       "      <td>2021-06-21</td>\n",
       "    </tr>\n",
       "    <tr>\n",
       "      <th>2</th>\n",
       "      <td>8.970610</td>\n",
       "      <td>2021-06-22</td>\n",
       "    </tr>\n",
       "    <tr>\n",
       "      <th>3</th>\n",
       "      <td>9.297172</td>\n",
       "      <td>2021-06-23</td>\n",
       "    </tr>\n",
       "    <tr>\n",
       "      <th>4</th>\n",
       "      <td>9.828439</td>\n",
       "      <td>2021-06-24</td>\n",
       "    </tr>\n",
       "  </tbody>\n",
       "</table>\n",
       "</div>"
      ],
      "text/plain": [
       "   estPrice        date\n",
       "0  6.611798  2021-06-20\n",
       "1  7.921276  2021-06-21\n",
       "2  8.970610  2021-06-22\n",
       "3  9.297172  2021-06-23\n",
       "4  9.828439  2021-06-24"
      ]
     },
     "execution_count": 19,
     "metadata": {},
     "output_type": "execute_result"
    }
   ],
   "source": [
    "# Estimated Prices\n",
    "df_strikes = pd.read_json('price-data/strikes.json')\n",
    "df4 = df_strikes.drop(df_strikes.columns[[1,2]], axis=1)\n",
    "\n",
    "df4['estPrice'] = df4['data'].astype(str).str.split(',').str[0]\n",
    "df4['date'] = df4['data'].astype(str).str.split(',').str[1]\n",
    "df5 = df4.drop(df4.columns[[0]], axis=1)\n",
    "\n",
    "df5['estPrice'] = df5['estPrice'].astype(str).str.split(':').str[1]\n",
    "df5['date'] = df5['date'].astype(str).str.split(':').str[1]\n",
    "\n",
    "df5['estPrice'] = df5['estPrice'].map(lambda x: x.rstrip(\"'\").lstrip(\" '\")).astype(float)\n",
    "df5['date'] = df5['date'].map(lambda x: x.lstrip(\" '\").rstrip(\"00\").rstrip(\"T\"))\n",
    "df5.sort_values(by='date', ascending=True).head()\n",
    "# print(df5.head())"
   ]
  },
  {
   "cell_type": "code",
   "execution_count": 22,
   "metadata": {},
   "outputs": [],
   "source": [
    "df_prices = pd.DataFrame(['floorPrice', 'estPrice'])\n",
    "# df_prices['floorPrice'] = \n",
    "\n"
   ]
  }
 ],
 "metadata": {
  "kernelspec": {
   "display_name": "Python 3.8.10 ('venv': venv)",
   "language": "python",
   "name": "python3"
  },
  "language_info": {
   "codemirror_mode": {
    "name": "ipython",
    "version": 3
   },
   "file_extension": ".py",
   "mimetype": "text/x-python",
   "name": "python",
   "nbconvert_exporter": "python",
   "pygments_lexer": "ipython3",
   "version": "3.8.10"
  },
  "orig_nbformat": 4,
  "vscode": {
   "interpreter": {
    "hash": "c91c76cab7e8ccd02bf1764d3a40f199e79969e3d86521567f5504252bae4dcf"
   }
  }
 },
 "nbformat": 4,
 "nbformat_minor": 2
}
